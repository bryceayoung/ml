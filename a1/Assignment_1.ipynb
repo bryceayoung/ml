{
 "cells": [
  {
   "cell_type": "markdown",
   "metadata": {},
   "source": [
    "# Assignment 1 - Probability, Linear Algebra, & Computational Programming"
   ]
  },
  {
   "cell_type": "markdown",
   "metadata": {},
   "source": [
    "## **BRYCE YOUNG**\n",
    "*NetID*: **by197116**\n",
    "\n",
    "*Names of students you worked with on this assignment*: **Marta Jerebets, Kristopher Mueller**\n",
    "\n",
    "Note: this assignment falls under collaboration Mode 2: Individual Assignment – Collaboration Permitted. Please refer to the syllabus for additional information."
   ]
  },
  {
   "cell_type": "markdown",
   "metadata": {},
   "source": [
    "Instructions for all assignments can be found [here](https://github.com/kylebradbury/ids705/blob/master/assignments/_Assignment%20Instructions.ipynb), and is also linked to from the [course syllabus](https://kylebradbury.github.io/ids705/index.html).\n",
    "\n",
    "Total points in the assignment add up to 90; an additional 10 points are allocated to presentation quality."
   ]
  },
  {
   "cell_type": "markdown",
   "metadata": {},
   "source": [
    "#  Learning Objectives\n",
    "The purpose of this assignment is to provide a refresher on fundamental concepts that we will use throughout this course and provide an opportunity to develop skills in any of the related skills that may be unfamiliar to you. Through the course of completing this assignment, you will... \n",
    "- Refresh you knowledge of probability theory including properties of random variables, probability density functions,  cumulative distribution functions, and key statistics such as mean and variance.\n",
    "- Revisit common linear algebra and matrix operations and concepts such as matrix multiplication, inner and outer products, inverses, the Hadamard (element-wise) product, eigenvalues and eigenvectors, orthogonality, and symmetry.\n",
    "- Practice numerical programming, core to machine learning, by loading and filtering data, plotting data, vectorizing operations, profiling code speed, and debugging and optimizing performance. You will also practice computing probabilities based on simulation.\n",
    "- Develop or refresh your knowledge of Git version control, which will be a core tool used in the final project of this course\n",
    "- Apply your skills altogether through an exploratory data analysis to practice data cleaning, data manipulation, interpretation, and communication \n",
    "\n",
    "We will build on these concepts throughout the course, so use this assignment as a catalyst to deepen your knowledge and seek help with anything unfamiliar.\n",
    "\n",
    "If some references would be helpful on these topics, I would recommend the following resources:\n",
    "- [Mathematics for Machine Learning](https://mml-book.github.io/book/mml-book.pdf) by Deisenroth, Faisal, and Ong\n",
    "- [Deep Learning](https://www.deeplearningbook.org/); Part I: Applied Math and Machine Learning Basics by Goodfellow, Bengio, and Courville\n",
    "- [The Matrix Calculus You Need For Deep Learning](https://arxiv.org/pdf/1802.01528.pdf) by Parr and Howard\n",
    "- [Dive Into Deep Learning](https://d2l.ai/chapter_appendix-mathematics-for-deep-learning/index.html); Appendix: Mathematics for Deep Learning by Weness, Hu, et al.\n",
    "\n",
    "*Note: don't worry if you don't understand everything in the references above - some of these books dive into significant minutia of each of these topics.*"
   ]
  },
  {
   "cell_type": "markdown",
   "metadata": {},
   "source": [
    "---\n",
    "\n",
    "# Probability and Statistics Theory"
   ]
  },
  {
   "cell_type": "markdown",
   "metadata": {},
   "source": [
    "*Note: for all assignments, write out equations and math using markdown and [LaTeX](https://tobi.oetiker.ch/lshort/lshort.pdf). For this assignment show ALL math work for questions 1-4, meaning that you should include any intermediate steps necessary to understand the logic of your solution*"
   ]
  },
  {
   "cell_type": "markdown",
   "metadata": {},
   "source": [
    "## 1\n",
    "**[3 points]**  \n",
    "Let $f(x) = \\begin{cases}\n",
    "                0           & x < 0  \\\\\n",
    "                \\alpha x^2  & 0 \\leq x \\leq 2 \\\\\n",
    "                0           & 2 < x\n",
    "            \\end{cases}$\n",
    "            \n",
    "For what value of $\\alpha$ is $f(x)$ a valid probability density function?"
   ]
  },
  {
   "cell_type": "markdown",
   "metadata": {},
   "source": [
    "**ANSWER**\n",
    "\n",
    "$ \\int_0^2 \\alpha x^2dx = \\alpha \\int_0^2 x^2dx $\n",
    "\n",
    "$ = [\\alpha \\frac{x^3}{3}]^2_0 $\n",
    "\n",
    "Since the other two functions yield 0 and the total probability must equal 1, we set the funtion to equal 1:\n",
    "\n",
    "$ 1 = [\\frac{0^3}{3}]_0 \\alpha + [\\frac{2^3}{3}]^2 \\alpha $\n",
    "\n",
    "$ 1 = 0 + (\\frac{8}{3})\\alpha $\n",
    "\n",
    "$ \\alpha = \\frac{3}{8} $"
   ]
  },
  {
   "cell_type": "markdown",
   "metadata": {},
   "source": [
    "---\n",
    "\n",
    "## 2\n",
    "**[3 points]** What is the cumulative distribution function (CDF) that corresponds to the following probability distribution function? Please state the value of the CDF for all possible values of $x$.\n",
    "\n",
    "$f(x) = \\begin{cases}\n",
    "    \\frac{1}{3} & 0 < x < 3 \\\\\n",
    "    0           & \\text{otherwise}\n",
    "    \\end{cases}$"
   ]
  },
  {
   "cell_type": "markdown",
   "metadata": {},
   "source": [
    "**ANSWER 2**\n",
    "\n",
    "In the interval $ 0 < x < 3 $, the PDF is $\\frac{1}{3}$. Therefore, we integrate $\\frac{1}{3}dt$ from $0$ to $x$:\n",
    "\n",
    "$ F(x) = \\frac{1}{3} \\int_0^x dt $\n",
    "\n",
    "$ F(x) = \\frac{x}{3} $\n",
    "\n",
    "Answer:\n",
    "\n",
    "$F(x) = \\begin{cases}\n",
    "\\frac{x}{3} & 0 < x < 3 \\\\\n",
    "0 & \\text{otherwise}\n",
    "\\end{cases}$"
   ]
  },
  {
   "cell_type": "markdown",
   "metadata": {},
   "source": [
    "---\n",
    "\n",
    "## 3\n",
    "**[6 points]** For the probability distribution function for the random variable $X$,\n",
    "\n",
    "$f(x) = \\begin{cases}\n",
    "    \\frac{1}{3} & 0 < x < 3 \\\\\n",
    "    0           & \\text{otherwise}\n",
    "    \\end{cases}$\n",
    "    \n",
    "what is the (a) expected value and (b) variance of $X$. *Show all work*."
   ]
  },
  {
   "cell_type": "markdown",
   "metadata": {},
   "source": [
    "---\n",
    "**ANSWER 3**\n",
    "\n",
    "EXPECTED VALUE:\n",
    "\n",
    "$ E[X] = \\int_0^3 x \\cdot (\\frac{1}{3}) dx $\n",
    "\n",
    "$ = \\frac{1}{3} \\int_0^3 x dx $\n",
    "\n",
    "$ = \\frac{1}{3} [\\frac{x^2}{2}]_0^3 $\n",
    "\n",
    "$ = \\frac{1}{3} [\\frac{3^2}{2} - \\frac{0^2}{2}] $\n",
    "\n",
    "$ = \\frac{1}{3} \\cdot \\frac{9}{2} $\n",
    "\n",
    "**Answer (a):**\n",
    "\n",
    "$ E[X] = \\frac{3}{2} $\n",
    "\n",
    "________________________________\n",
    "\n",
    "VARIANCE:\n",
    "\n",
    "$ Var(X) = E[X^2] - (E[X])^2 $\n",
    "\n",
    "First, find $E[X^2]$:\n",
    "\n",
    "$ E[X^2] = \\int_0^3 x^2 \\cdot \\frac{1}{3} dx $\n",
    "\n",
    "$ = \\frac{1}{3} [\\frac{x^3}{3}]_0^3 $\n",
    "\n",
    "$ = \\frac{1}{3} [\\frac{3^3}{3} - \\frac{0^3}{3}] $\n",
    "\n",
    "$ = \\frac{1}{3} \\cdot \\frac{27}{3} $\n",
    "\n",
    "$ E[X^2] = 3 $\n",
    "\n",
    "Using the variance formula, above, and $E[X] = \\frac{3}{2}$ and $E[X^2] = 3$:\n",
    "\n",
    "$ Var(X) = 3 - (\\frac{3}{2})^2 $\n",
    "\n",
    "**Answer (b):**\n",
    "\n",
    "$ Var(X) = \\frac{3}{4} = 0.75 $\n"
   ]
  },
  {
   "cell_type": "markdown",
   "metadata": {},
   "source": [
    "---\n",
    "\n",
    "## 4\n",
    "**[6 points]** Consider the following table of data that provides the values of a discrete data vector $\\mathbf{x}$ of samples from the random variable $X$, where each entry in $\\mathbf{x}$ is given as $x_i$.\n",
    "\n",
    "*Table 1. Dataset N=5 observations*\n",
    "\n",
    "|        | $x_0$ | $x_1$ | $x_2$ | $x_3$ | $x_4$ |\n",
    "|------  |-------|-------|-------|-------|-------|\n",
    "|$\\textbf{x}$| 2     | 3     | 10    | -1    | -1    |\n",
    "\n",
    "What is the (a) mean and (b) variance of the data? \n",
    "\n",
    "*Show all work. Your answer should include the definition of mean and variance in the context of discrete data. In this case, use the sample variance since the sample size is quite small*"
   ]
  },
  {
   "cell_type": "markdown",
   "metadata": {},
   "source": [
    "**ANSWER 4**\n",
    "\n",
    "MEAN:\n",
    "\n",
    "$ \\bar{x} = \\frac{1}{N} \\sum_{i = 1}^N x_i $\n",
    "\n",
    "$ = \\frac{(2 + 3 + 10 - 1 - 1)}{5} $\n",
    "\n",
    "**Answer (a)**:\n",
    "\n",
    "$ \\bar{x} = \\frac{13}{5} = 2.6 $\n",
    "\n",
    "SAMPLE VARIANCE\n",
    "\n",
    "$ s^2 = \\frac{1}{n-1} \\sum_{i = 1}^n (x_i - \\bar{x})^2 $\n",
    "\n",
    "$ = \\frac{(2 - 2.6)^2 + (3 - 2.6)^2 + (10 - 2.6)^2 + (-1 - 2.6)^2 + (-1 - 2.6)^2}{4} = \\frac{0.36 + 0.16 + 54.76 + 12.96 + 12.96}{4} $\n",
    "\n",
    "**Answer (b)**:\n",
    "\n",
    "$ s^2 = \\frac{83}{4} = 20.3 $"
   ]
  },
  {
   "cell_type": "markdown",
   "metadata": {},
   "source": [
    "---\n",
    "\n",
    "# Linear Algebra"
   ]
  },
  {
   "cell_type": "markdown",
   "metadata": {},
   "source": [
    "# 5\n",
    "\n",
    "**[5 points]** A common task in machine learning is a change of basis: transforming the representation of our data from one space to another. A prime example of this is through the process of dimensionality reduction as in Principle Components Analysis where we often seek to transform our data from one space (of dimension $n$) to a new space (of dimension $m$) where $m<n$. Assume we have a sample of data of dimension $n=4$ (as shown below) and we want to transform it into a dimension of $m=2$.\n",
    "\n",
    "$\\mathbf{x} =  \\begin{bmatrix}\n",
    "x_1 \\\\\n",
    "x_2 \\\\\n",
    "x_3 \\\\\n",
    "x_4 \n",
    "\\end{bmatrix}$"
   ]
  },
  {
   "cell_type": "markdown",
   "metadata": {},
   "source": [
    "(a) What are the dimensions of a matrix, $\\mathbf{A}$, that would linearly transform our sample of data, $\\mathbf{x}$, into a space of $m=2$ through the operation $\\mathbf{Ax}$?\n",
    "\n",
    "(b) Express this transformation in terms of the components of $\\mathbf{x}$: $x_1$, $x_2$, $x_3$, $x_4$ and the matrix $\\mathbf{A}$ where each entry in the matrix is denoted as $a_{i,j}$ (e.g. the entry in the first row and second column would be $a_{1,2}$). Your answer will be in the form of a matrix expressing result of the product $\\mathbf{Ax}$.\n",
    "\n",
    "*Note: please write your answers here in LaTeX*"
   ]
  },
  {
   "cell_type": "markdown",
   "metadata": {},
   "source": [
    "**ANSWER 5**\n",
    "\n",
    "PART A: DIMENSIONS\n",
    "\n",
    "Assumptions:\n",
    "\n",
    "The goal is to turn $\\begin{bmatrix}\n",
    "x_1 \\\\\n",
    "x_2 \\\\\n",
    "x_3 \\\\\n",
    "x_4\n",
    "\\end{bmatrix}$ into $\\begin{bmatrix}\n",
    "ax_1 \\\\\n",
    "ax_2\n",
    "\\end{bmatrix}$ with the product of matrix $\\mathbf{A}$ and vector $\\mathbf{x}$.\n",
    "\n",
    "The number of rows of $\\mathbf{A}$ should match $m = 2$ because that is our target.\n",
    "\n",
    "The number of columns in $\\mathbf{A}$ should match $n=4$ because this is required to multiply $\\mathbf{A}$ by $\\mathbf{x}$.\n",
    "\n",
    "**Answer 5(a)**: Therefore, dimensions of $\\mathbf{A}$ are $(2,4)$\n",
    "\n",
    "PART B: TRANSFORMATION\n",
    "\n",
    "Since the dimensions are $(2,4)$:\n",
    "\n",
    "$\\mathbf{A} = \\begin{bmatrix}\n",
    "a_{1,1} & a_{1,2} & a_{1,3} & a_{1,4} \\\\\n",
    "a_{2,1} & a_{2,2} & a_{2,3} & a_{3,4}\n",
    "\\end{bmatrix}$\n",
    "\n",
    "We multiply $\\mathbf{Ax}$:\n",
    "\n",
    "$\\mathbf{Ax} = \\begin{bmatrix}\n",
    "a_{1,1} & a_{1,2} & a_{1,3} & a_{1,4} \\\\\n",
    "a_{2,1} & a_{2,2} & a_{2,3} & a_{3,4}\n",
    "\\end{bmatrix} \\cdot \\begin{bmatrix}\n",
    "x_1 \\\\\n",
    "x_2 \\\\\n",
    "x_3 \\\\\n",
    "x_4\n",
    "\\end{bmatrix}$\n",
    "\n",
    "And we obtain the product:\n",
    "\n",
    "**Answer 5(b)**: $\\mathbf{A} = \\begin{bmatrix}\n",
    "a_{1,1}x_1 + a_{1,2}x_2 + a_{1,3}x_3 + a_{1,4}x_4 \\\\\n",
    "a_{2,1}x_1 + a_{2,2}x_2 + a_{2,3}x_3 + a_{3,4}x_4\n",
    "\\end{bmatrix}$"
   ]
  },
  {
   "cell_type": "markdown",
   "metadata": {},
   "source": [
    "---\n",
    "\n",
    "## 6\n",
    "**[14 points]** **Matrix manipulations and multiplication**. Machine learning involves working with many matrices, so this exercise will provide you with the opportunity to practice those skills.\n",
    "\n",
    "Let\n",
    "$\\mathbf{A} =  \\begin{bmatrix}\n",
    "1 & 2 & 3 \\\\\n",
    "2 & 4 & 5 \\\\\n",
    "3 & 5 & 6 \n",
    "\\end{bmatrix}$, $\\mathbf{b} =  \\begin{bmatrix}\n",
    "-1  \\\\\n",
    "3  \\\\\n",
    "8  \n",
    "\\end{bmatrix}$, $\\mathbf{c} =  \\begin{bmatrix}\n",
    "4  \\\\\n",
    "-3  \\\\\n",
    "6  \n",
    "\\end{bmatrix}$, and $\\mathbf{I} =  \\begin{bmatrix}\n",
    "1 & 0 & 0 \\\\\n",
    "0 & 1 & 0 \\\\\n",
    "0 & 0 & 1 \n",
    "\\end{bmatrix}$\n",
    "\n",
    "Compute the following **using Python** or indicate that it cannot be computed. Refer to NumPy's tools for handling matrices. While all answers should be computed using Python, your response to whether each item can be computed should refer to underlying linear algebra. There may be circumstances when Python will produce an output, but based on the dimensions of the matrices involved, the linear algebra operation is not possible. **For the case when an operation is invalid, explain why it is not.**\n",
    "\n",
    "When the quantity can be computed, please provide both the Python code AND the output of that code (this need not be in LaTex)\n",
    "\n",
    "1. $\\mathbf{A}\\mathbf{A}$\n",
    "2. $\\mathbf{A}\\mathbf{A}^T$\n",
    "3. $\\mathbf{A}\\mathbf{b}$\n",
    "4. $\\mathbf{A}\\mathbf{b}^T$\n",
    "5. $\\mathbf{b}\\mathbf{A}$\n",
    "6. $\\mathbf{b}^T\\mathbf{A}$\n",
    "7. $\\mathbf{b}\\mathbf{b}$\n",
    "8. $\\mathbf{b}^T\\mathbf{b}$\n",
    "9. $\\mathbf{b}\\mathbf{b}^T$\n",
    "10. $\\mathbf{b} + \\mathbf{c}^T$\n",
    "11. $\\mathbf{b}^T\\mathbf{b}^T$\n",
    "12. $\\mathbf{A}^{-1}\\mathbf{b}$\n",
    "13. $\\mathbf{A}\\circ\\mathbf{A}$\n",
    "14. $\\mathbf{b}\\circ\\mathbf{c}$\n",
    "\n",
    "*Note: The element-wise (or Hadamard) product is the product of each element in one matrix with the corresponding element in another matrix, and is represented by the symbol \"$\\circ$\".*"
   ]
  },
  {
   "cell_type": "code",
   "execution_count": 1,
   "metadata": {},
   "outputs": [],
   "source": [
    "import numpy as np"
   ]
  },
  {
   "cell_type": "code",
   "execution_count": 52,
   "metadata": {
    "scrolled": true
   },
   "outputs": [
    {
     "ename": "ValueError",
     "evalue": "matmul: Input operand 1 has a mismatch in its core dimension 0, with gufunc signature (n?,k),(k,m?)->(n?,m?) (size 1 is different from 3)",
     "output_type": "error",
     "traceback": [
      "\u001b[1;31m---------------------------------------------------------------------------\u001b[0m",
      "\u001b[1;31mValueError\u001b[0m                                Traceback (most recent call last)",
      "Cell \u001b[1;32mIn[52], line 20\u001b[0m\n\u001b[0;32m     18\u001b[0m AAt \u001b[38;5;241m=\u001b[39m A \u001b[38;5;241m@\u001b[39m A\u001b[38;5;241m.\u001b[39mT\n\u001b[0;32m     19\u001b[0m Ab \u001b[38;5;241m=\u001b[39m A \u001b[38;5;241m@\u001b[39m b\n\u001b[1;32m---> 20\u001b[0m Abt \u001b[38;5;241m=\u001b[39m \u001b[43mA\u001b[49m\u001b[43m \u001b[49m\u001b[38;5;241;43m@\u001b[39;49m\u001b[43m \u001b[49m\u001b[43mb\u001b[49m\u001b[38;5;241;43m.\u001b[39;49m\u001b[43mT\u001b[49m\n\u001b[0;32m     21\u001b[0m bA \u001b[38;5;241m=\u001b[39m b \u001b[38;5;241m@\u001b[39m A\n\u001b[0;32m     22\u001b[0m btA \u001b[38;5;241m=\u001b[39m b\u001b[38;5;241m.\u001b[39mT \u001b[38;5;241m@\u001b[39m A\n",
      "\u001b[1;31mValueError\u001b[0m: matmul: Input operand 1 has a mismatch in its core dimension 0, with gufunc signature (n?,k),(k,m?)->(n?,m?) (size 1 is different from 3)"
     ]
    }
   ],
   "source": [
    "A = np.array([[1,2,3],\n",
    "              [2,4,5],\n",
    "              [3,5,6]])\n",
    "\n",
    "b = np.array([[-1],\n",
    "              [3],\n",
    "              [8]])\n",
    "\n",
    "c = np.array([[4],\n",
    "              [-3],\n",
    "              [6]])\n",
    "\n",
    "I = np.array([[1,0,0],\n",
    "              [0,1,0],\n",
    "              [0,0,1]])\n",
    "\n",
    "# I defined the equations and prompted the results to be printed. This did not work.\n",
    "AA = A @ A\n",
    "AAt = A @ A.T\n",
    "Ab = A @ b\n",
    "Abt = A @ b.T\n",
    "bA = b @ A\n",
    "btA = b.T @ A\n",
    "bb = b @ b\n",
    "btb = b.T @ b\n",
    "bbt = b @ b.T\n",
    "bplusct = b @ c.T\n",
    "btbt = b.T @ b.T\n",
    "invAb = (np.linalg.inv(A)) @ b\n",
    "AhadA = A * A\n",
    "bhadc = b * c\n",
    "\n",
    "print(AA)\n",
    "print(AAt)\n",
    "print(Ab)\n",
    "print(Abt)\n",
    "print(bA)\n",
    "print(btA)\n",
    "print(bb)\n",
    "print(btb)\n",
    "print(bbt)\n",
    "print(bplusct)\n",
    "print(btbt)\n",
    "print(invAb)\n",
    "print(AhadA)\n",
    "print(bhadc)"
   ]
  },
  {
   "cell_type": "code",
   "execution_count": 53,
   "metadata": {},
   "outputs": [
    {
     "ename": "NameError",
     "evalue": "name 'Abt' is not defined",
     "output_type": "error",
     "traceback": [
      "\u001b[1;31m---------------------------------------------------------------------------\u001b[0m",
      "\u001b[1;31mNameError\u001b[0m                                 Traceback (most recent call last)",
      "Cell \u001b[1;32mIn[53], line 1\u001b[0m\n\u001b[1;32m----> 1\u001b[0m eqs \u001b[38;5;241m=\u001b[39m (AA, AAt, Ab, \u001b[43mAbt\u001b[49m, bA, btA, bb, btb, bbt, bplusct, btbt, invAb, AhadA, bhadc)\n\u001b[0;32m      3\u001b[0m \u001b[38;5;28;01mfor\u001b[39;00m i, equation \u001b[38;5;129;01min\u001b[39;00m \u001b[38;5;28menumerate\u001b[39m(eqs):\n\u001b[0;32m      4\u001b[0m     \u001b[38;5;28;01mtry\u001b[39;00m:\n",
      "\u001b[1;31mNameError\u001b[0m: name 'Abt' is not defined"
     ]
    }
   ],
   "source": [
    "#Next, I had a better idea. I wanted to solve and print each equation one by one, producing an error when an equation could not be solved.\n",
    "# However, I could not make the loop move beyond equations that were unsolvable.\n",
    "\n",
    "eqs = (AA, AAt, Ab, Abt, bA, btA, bb, btb, bbt, bplusct, btbt, invAb, AhadA, bhadc)\n",
    "\n",
    "for i, equation in enumerate(eqs):\n",
    "    try:\n",
    "        solution = np.linalg.solve(I, equation)\n",
    "        print(f\"Solution for equation {i + 1}:\\n{solution}\")\n",
    "    except np.linalg.LinAlgError as e:\n",
    "        print(f\"Error for equation {i + 1}: {e}. Can't compute.\")"
   ]
  },
  {
   "cell_type": "markdown",
   "metadata": {},
   "source": [
    "**ANSWER 6**\n",
    "\n",
    "In the end, I did it the long way: entering an equation in its own cell and computing \"by hand\""
   ]
  },
  {
   "cell_type": "code",
   "execution_count": 61,
   "metadata": {},
   "outputs": [
    {
     "data": {
      "text/plain": [
       "array([[14, 25, 31],\n",
       "       [25, 45, 56],\n",
       "       [31, 56, 70]])"
      ]
     },
     "execution_count": 61,
     "metadata": {},
     "output_type": "execute_result"
    }
   ],
   "source": [
    "#Equation 1\n",
    "A @ A"
   ]
  },
  {
   "cell_type": "code",
   "execution_count": 62,
   "metadata": {},
   "outputs": [
    {
     "data": {
      "text/plain": [
       "array([[14, 25, 31],\n",
       "       [25, 45, 56],\n",
       "       [31, 56, 70]])"
      ]
     },
     "execution_count": 62,
     "metadata": {},
     "output_type": "execute_result"
    }
   ],
   "source": [
    "#Equation 2\n",
    "A @ A.T"
   ]
  },
  {
   "cell_type": "code",
   "execution_count": 63,
   "metadata": {},
   "outputs": [
    {
     "data": {
      "text/plain": [
       "array([[29],\n",
       "       [50],\n",
       "       [60]])"
      ]
     },
     "execution_count": 63,
     "metadata": {},
     "output_type": "execute_result"
    }
   ],
   "source": [
    "#Equation 3\n",
    "A @ b"
   ]
  },
  {
   "cell_type": "code",
   "execution_count": 65,
   "metadata": {},
   "outputs": [
    {
     "ename": "ValueError",
     "evalue": "matmul: Input operand 1 has a mismatch in its core dimension 0, with gufunc signature (n?,k),(k,m?)->(n?,m?) (size 1 is different from 3)",
     "output_type": "error",
     "traceback": [
      "\u001b[1;31m---------------------------------------------------------------------------\u001b[0m",
      "\u001b[1;31mValueError\u001b[0m                                Traceback (most recent call last)",
      "Cell \u001b[1;32mIn[65], line 2\u001b[0m\n\u001b[0;32m      1\u001b[0m \u001b[38;5;66;03m#Equation 4\u001b[39;00m\n\u001b[1;32m----> 2\u001b[0m \u001b[43mA\u001b[49m\u001b[43m \u001b[49m\u001b[38;5;241;43m@\u001b[39;49m\u001b[43m \u001b[49m\u001b[43mb\u001b[49m\u001b[38;5;241;43m.\u001b[39;49m\u001b[43mT\u001b[49m\n",
      "\u001b[1;31mValueError\u001b[0m: matmul: Input operand 1 has a mismatch in its core dimension 0, with gufunc signature (n?,k),(k,m?)->(n?,m?) (size 1 is different from 3)"
     ]
    }
   ],
   "source": [
    "#Equation 4\n",
    "A @ b.T"
   ]
  },
  {
   "cell_type": "markdown",
   "metadata": {},
   "source": [
    "$\\mathbf{A}\\mathbf{b}^T$ does not compute because there need to be 3 rows to multiply the matrices but there are 1"
   ]
  },
  {
   "cell_type": "code",
   "execution_count": 66,
   "metadata": {},
   "outputs": [
    {
     "ename": "ValueError",
     "evalue": "matmul: Input operand 1 has a mismatch in its core dimension 0, with gufunc signature (n?,k),(k,m?)->(n?,m?) (size 3 is different from 1)",
     "output_type": "error",
     "traceback": [
      "\u001b[1;31m---------------------------------------------------------------------------\u001b[0m",
      "\u001b[1;31mValueError\u001b[0m                                Traceback (most recent call last)",
      "Cell \u001b[1;32mIn[66], line 2\u001b[0m\n\u001b[0;32m      1\u001b[0m \u001b[38;5;66;03m#Equation 5\u001b[39;00m\n\u001b[1;32m----> 2\u001b[0m \u001b[43mb\u001b[49m\u001b[43m \u001b[49m\u001b[38;5;241;43m@\u001b[39;49m\u001b[43m \u001b[49m\u001b[43mA\u001b[49m\n",
      "\u001b[1;31mValueError\u001b[0m: matmul: Input operand 1 has a mismatch in its core dimension 0, with gufunc signature (n?,k),(k,m?)->(n?,m?) (size 3 is different from 1)"
     ]
    }
   ],
   "source": [
    "#Equation 5\n",
    "b @ A"
   ]
  },
  {
   "cell_type": "markdown",
   "metadata": {},
   "source": [
    "$\\mathbf{b}\\mathbf{A}$ does not compute because there need to be 1 rows to multiply the matrices but there are 3"
   ]
  },
  {
   "cell_type": "code",
   "execution_count": 68,
   "metadata": {},
   "outputs": [
    {
     "data": {
      "text/plain": [
       "array([[29, 50, 60]])"
      ]
     },
     "execution_count": 68,
     "metadata": {},
     "output_type": "execute_result"
    }
   ],
   "source": [
    "#Equation 6\n",
    "b.T @ A"
   ]
  },
  {
   "cell_type": "code",
   "execution_count": 69,
   "metadata": {},
   "outputs": [
    {
     "ename": "ValueError",
     "evalue": "matmul: Input operand 1 has a mismatch in its core dimension 0, with gufunc signature (n?,k),(k,m?)->(n?,m?) (size 3 is different from 1)",
     "output_type": "error",
     "traceback": [
      "\u001b[1;31m---------------------------------------------------------------------------\u001b[0m",
      "\u001b[1;31mValueError\u001b[0m                                Traceback (most recent call last)",
      "Cell \u001b[1;32mIn[69], line 2\u001b[0m\n\u001b[0;32m      1\u001b[0m \u001b[38;5;66;03m#Equation 7\u001b[39;00m\n\u001b[1;32m----> 2\u001b[0m \u001b[43mb\u001b[49m\u001b[43m \u001b[49m\u001b[38;5;241;43m@\u001b[39;49m\u001b[43m \u001b[49m\u001b[43mb\u001b[49m\n",
      "\u001b[1;31mValueError\u001b[0m: matmul: Input operand 1 has a mismatch in its core dimension 0, with gufunc signature (n?,k),(k,m?)->(n?,m?) (size 3 is different from 1)"
     ]
    }
   ],
   "source": [
    "#Equation 7\n",
    "b @ b"
   ]
  },
  {
   "cell_type": "markdown",
   "metadata": {},
   "source": [
    "$\\mathbf{b}\\mathbf{b}$ does not compute because there need to be 3 columns in the second matrix to multiply"
   ]
  },
  {
   "cell_type": "code",
   "execution_count": 70,
   "metadata": {},
   "outputs": [
    {
     "data": {
      "text/plain": [
       "array([[74]])"
      ]
     },
     "execution_count": 70,
     "metadata": {},
     "output_type": "execute_result"
    }
   ],
   "source": [
    "#Equation 8\n",
    "b.T @ b"
   ]
  },
  {
   "cell_type": "code",
   "execution_count": 71,
   "metadata": {},
   "outputs": [
    {
     "data": {
      "text/plain": [
       "array([[ 1, -3, -8],\n",
       "       [-3,  9, 24],\n",
       "       [-8, 24, 64]])"
      ]
     },
     "execution_count": 71,
     "metadata": {},
     "output_type": "execute_result"
    }
   ],
   "source": [
    "#Equation 9\n",
    "b @ b.T"
   ]
  },
  {
   "cell_type": "code",
   "execution_count": 72,
   "metadata": {},
   "outputs": [
    {
     "data": {
      "text/plain": [
       "array([[ -4,   3,  -6],\n",
       "       [ 12,  -9,  18],\n",
       "       [ 32, -24,  48]])"
      ]
     },
     "execution_count": 72,
     "metadata": {},
     "output_type": "execute_result"
    }
   ],
   "source": [
    "#Equation 10\n",
    "b @ c.T"
   ]
  },
  {
   "cell_type": "code",
   "execution_count": 73,
   "metadata": {},
   "outputs": [
    {
     "ename": "ValueError",
     "evalue": "matmul: Input operand 1 has a mismatch in its core dimension 0, with gufunc signature (n?,k),(k,m?)->(n?,m?) (size 1 is different from 3)",
     "output_type": "error",
     "traceback": [
      "\u001b[1;31m---------------------------------------------------------------------------\u001b[0m",
      "\u001b[1;31mValueError\u001b[0m                                Traceback (most recent call last)",
      "Cell \u001b[1;32mIn[73], line 2\u001b[0m\n\u001b[0;32m      1\u001b[0m \u001b[38;5;66;03m#Equation 11\u001b[39;00m\n\u001b[1;32m----> 2\u001b[0m \u001b[43mb\u001b[49m\u001b[38;5;241;43m.\u001b[39;49m\u001b[43mT\u001b[49m\u001b[43m \u001b[49m\u001b[38;5;241;43m@\u001b[39;49m\u001b[43m \u001b[49m\u001b[43mb\u001b[49m\u001b[38;5;241;43m.\u001b[39;49m\u001b[43mT\u001b[49m\n",
      "\u001b[1;31mValueError\u001b[0m: matmul: Input operand 1 has a mismatch in its core dimension 0, with gufunc signature (n?,k),(k,m?)->(n?,m?) (size 1 is different from 3)"
     ]
    }
   ],
   "source": [
    "#Equation 11\n",
    "b.T @ b.T"
   ]
  },
  {
   "cell_type": "markdown",
   "metadata": {},
   "source": [
    "$\\mathbf{b}^T\\mathbf{b}^T$ does not compute because there need to be 1 columns in the second matrix to multiply"
   ]
  },
  {
   "cell_type": "code",
   "execution_count": 75,
   "metadata": {},
   "outputs": [
    {
     "data": {
      "text/plain": [
       "array([[ 6.],\n",
       "       [ 4.],\n",
       "       [-5.]])"
      ]
     },
     "execution_count": 75,
     "metadata": {},
     "output_type": "execute_result"
    }
   ],
   "source": [
    "#Equation 12\n",
    "(np.linalg.inv(A)) @ b"
   ]
  },
  {
   "cell_type": "code",
   "execution_count": 76,
   "metadata": {},
   "outputs": [
    {
     "data": {
      "text/plain": [
       "array([[ 1,  4,  9],\n",
       "       [ 4, 16, 25],\n",
       "       [ 9, 25, 36]])"
      ]
     },
     "execution_count": 76,
     "metadata": {},
     "output_type": "execute_result"
    }
   ],
   "source": [
    "#Equation 13\n",
    "A * A"
   ]
  },
  {
   "cell_type": "code",
   "execution_count": 77,
   "metadata": {},
   "outputs": [
    {
     "data": {
      "text/plain": [
       "array([[-4],\n",
       "       [-9],\n",
       "       [48]])"
      ]
     },
     "execution_count": 77,
     "metadata": {},
     "output_type": "execute_result"
    }
   ],
   "source": [
    "#Equation 14\n",
    "b * c"
   ]
  },
  {
   "cell_type": "markdown",
   "metadata": {},
   "source": [
    "---\n",
    "\n",
    "## 7\n",
    "**[8 points]** **Eigenvectors and eigenvalues**. Eigenvectors and eigenvalues are useful for some machine learning algorithms, but the concepts take time to solidly grasp. They are used extensively in machine learning and in this course we will encounter them in relation to Principal Components Analysis (PCA), clustering algorithms, For an intuitive review of these concepts, explore this [interactive website at Setosa.io](http://setosa.io/ev/eigenvectors-and-eigenvalues/). Also, the series of linear algebra videos by Grant Sanderson of 3Brown1Blue are excellent and can be viewed on youtube [here](https://www.youtube.com/playlist?list=PLZHQObOWTQDPD3MizzM2xVFitgF8hE_ab). For these questions, numpy may once again be helpful.\n",
    "\n",
    "1. Calculate the eigenvalues and corresponding eigenvectors of matrix $\\mathbf{A}$ above, from the last question.\n",
    "2. Choose one of the eigenvector/eigenvalue pairs, $\\mathbf{v}$ and $\\lambda$, and show that $\\mathbf{A} \\mathbf{v} = \\lambda \\mathbf{v}$. This relationship extends to higher orders: $\\mathbf{A} \\mathbf{A} \\mathbf{v} = \\lambda^2 \\mathbf{v}$\n",
    "3. Show that the eigenvectors are orthogonal to one another (e.g. their inner product is zero). This is true for eigenvectors from real, symmetric matrices. In three dimensions or less, this means that the eigenvectors are perpendicular to each other. Typically we use the orthogonal basis of our standard x, y, and z, Cartesian coordinates, which allows us, if we combine them linearly, to represent any point in a 3D space. But any three orthogonal vectors can do the same. We will see this property is used in PCA to identify the dimensions of greatest variation in our data when we discuss dimensionality reduction."
   ]
  },
  {
   "cell_type": "markdown",
   "metadata": {},
   "source": [
    "**ANSWER 7**\n",
    "\n",
    "Eigenvalues and Eigenvectors can be called as $\\mathbf{W, v}$ from the NumPy (np) function np.linalg.eig(A):"
   ]
  },
  {
   "cell_type": "code",
   "execution_count": 54,
   "metadata": {},
   "outputs": [
    {
     "name": "stdout",
     "output_type": "stream",
     "text": [
      "Eigenvalues:\n",
      "[11.34481428 -0.51572947  0.17091519]\n",
      "\n",
      "Eigenvectors:\n",
      "[[-0.32798528 -0.73697623  0.59100905]\n",
      " [-0.59100905 -0.32798528 -0.73697623]\n",
      " [-0.73697623  0.59100905  0.32798528]]\n"
     ]
    }
   ],
   "source": [
    "A = np.array([[1,2,3],\n",
    "              [2,4,5],\n",
    "              [3,5,6]])\n",
    "\n",
    "eigenvalues, eigenvectors = np.linalg.eig(A)\n",
    "\n",
    "print(\"Eigenvalues:\")\n",
    "print(eigenvalues)\n",
    "\n",
    "print(\"\\nEigenvectors:\")\n",
    "print(eigenvectors)"
   ]
  },
  {
   "cell_type": "code",
   "execution_count": 55,
   "metadata": {},
   "outputs": [
    {
     "name": "stdout",
     "output_type": "stream",
     "text": [
      "Av:\n",
      "[-3.72093206 -6.70488789 -8.36085845]\n",
      "\n",
      "Lv:\n",
      "[-3.72093206 -6.70488789 -8.36085845]\n"
     ]
    }
   ],
   "source": [
    "eval1 = eigenvalues[0]\n",
    "evec1 = eigenvectors[:,0]\n",
    "\n",
    "Av = np.dot(A, evec1)\n",
    "Lv = eval1 * evec1\n",
    "\n",
    "print(\"Av:\")\n",
    "print(Av)\n",
    "print(\"\\nLv:\")\n",
    "print(Lv)"
   ]
  },
  {
   "cell_type": "markdown",
   "metadata": {},
   "source": [
    "Therefore, $\\mathbf{A} \\mathbf{v} = \\lambda \\mathbf{v}$."
   ]
  },
  {
   "cell_type": "code",
   "execution_count": 57,
   "metadata": {},
   "outputs": [
    {
     "name": "stdout",
     "output_type": "stream",
     "text": [
      "Eigenvectors are orthogonal.\n"
     ]
    }
   ],
   "source": [
    "# Showing that the eigenvectors are orthogonal, we compute their inner product.\n",
    "# If the inner product is close to 0 (with a small tolerance), they are orthogonal\n",
    "dot_products = np.dot(eigenvectors, eigenvectors.T)\n",
    "\n",
    "tolerance = 1e-10\n",
    "\n",
    "are_orthogonal = np.all(np.abs(dot_products - np.diag(np.diag(dot_products))) < tolerance)\n",
    "\n",
    "if are_orthogonal:\n",
    "    print(\"Eigenvectors are orthogonal.\")\n",
    "else:\n",
    "    print(\"Eigenvectors are not orthogonal.\")"
   ]
  },
  {
   "cell_type": "markdown",
   "metadata": {},
   "source": [
    "---\n",
    "\n",
    "# Numerical Programming"
   ]
  },
  {
   "cell_type": "markdown",
   "metadata": {},
   "source": [
    "## 8\n",
    "**[10 points]** Loading data and gathering insights from a real dataset\n",
    "\n",
    "In data science, we often need to have a sense of the idiosyncrasies of the data, how they relate to the questions we are trying to answer, and to use that information to help us to determine what approach, such as machine learning, we may need to apply to achieve our goal. This exercise provides practice in exploring a dataset and answering question that might arise from applications related to the data.\n",
    "\n",
    "**Data**. The data for this problem can be found in the `data` subfolder in the `assignments` folder on [github](https://github.com/kylebradbury/ids705). The filename is `a1_egrid2016.xlsx`. This dataset is the Environmental Protection Agency's (EPA) [Emissions & Generation Resource Integrated Database (eGRID)](https://www.epa.gov/energy/emissions-generation-resource-integrated-database-egrid) containing information about all power plants in the United States, the amount of generation they produce, what fuel they use, the location of the plant, and many more quantities. We'll be using a subset of those data.\n",
    "\n",
    "The fields we'll be using include:\t\t\t\t\t\n",
    "    \n",
    "|field    |description|\n",
    "|:-----   |:-----|\n",
    "|SEQPLT16 |eGRID2016 Plant file sequence number (the index)| \n",
    "|PSTATABB |Plant state abbreviation|\n",
    "|PNAME    |Plant name |\n",
    "|LAT      |Plant latitude |\n",
    "|LON      |Plant longitude|\n",
    "|PLPRMFL  |Plant primary fuel |\n",
    "|CAPFAC   |Plant capacity factor |\n",
    "|NAMEPCAP |Plant nameplate capacity (Megawatts MW)|\n",
    "|PLNGENAN |Plant annual net generation (Megawatt-hours MWh)|\n",
    "|PLCO2EQA |Plant annual CO2 equivalent emissions (tons)|\n",
    "\n",
    "For more details on the data, you can refer to the [eGrid technical documents](https://www.epa.gov/sites/default/files/2021-02/documents/egrid2019_technical_guide.pdf). For example, you may want to review page 45 and the section \"Plant Primary Fuel (PLPRMFL)\", which gives the full names of the fuel types including WND for wind, NG for natural gas, BIT for Bituminous coal, etc.\n",
    "\n",
    "There also are a couple of \"gotchas\" to watch out for with this dataset:\n",
    "- The headers are on the second row and you'll want to ignore the first row (they're more detailed descriptions of the headers).\n",
    "- NaN values represent blanks in the data. These will appear regularly in real-world data, so getting experience working with these sorts of missing values will be important.\n",
    "\n",
    "**Your objective**. For this dataset, your goal is to answer the following questions about electricity generation in the United States:\n",
    "\n",
    "**(a)** Which plant has generated the most energy (measured in MWh)?\n",
    "\n",
    "**(b)** What is the name of the northern-most power plant in the United States?\n",
    "\n",
    "**(c)** What is the state where the northern-most power plant in the United States is located?\n",
    "\n",
    "**(d)** Plot a bar plot showing the amount of energy produced by each fuel type across all plants. \n",
    "\n",
    "**(e)** From the plot in (d), which fuel for generation produces the most energy (MWh) in the United States?"
   ]
  },
  {
   "cell_type": "markdown",
   "metadata": {},
   "source": [
    "**ANSWER 8**"
   ]
  },
  {
   "cell_type": "code",
   "execution_count": 78,
   "metadata": {},
   "outputs": [
    {
     "name": "stdout",
     "output_type": "stream",
     "text": [
      "<bound method NDFrame.head of                             PNAME    PLNGENAN\n",
      "390                    Palo Verde  32377477.0\n",
      "164                  Browns Ferry  26214623.0\n",
      "7966                 Peach Bottom  21875435.0\n",
      "8764          South Texas Project  21694303.0\n",
      "8157                       Oconee  21177103.0\n",
      "...                           ...         ...\n",
      "9683                   Osage (WY)         NaN\n",
      "9684                  Pilot Butte         NaN\n",
      "9694  Simpson Ridge Wind Farm LLC         NaN\n",
      "9698             Sweetwater Solar         NaN\n",
      "9703   Two Elk Generating Station         NaN\n",
      "\n",
      "[9709 rows x 2 columns]>\n"
     ]
    },
    {
     "name": "stderr",
     "output_type": "stream",
     "text": [
      "C:\\Users\\by197116\\AppData\\Local\\Temp\\ipykernel_10900\\4016545991.py:11: SettingWithCopyWarning: \n",
      "A value is trying to be set on a copy of a slice from a DataFrame.\n",
      "Try using .loc[row_indexer,col_indexer] = value instead\n",
      "\n",
      "See the caveats in the documentation: https://pandas.pydata.org/pandas-docs/stable/user_guide/indexing.html#returning-a-view-versus-a-copy\n",
      "  gen['PLNGENAN'] = gen['PLNGENAN'].str.replace(',', '', regex = True)\n",
      "C:\\Users\\by197116\\AppData\\Local\\Temp\\ipykernel_10900\\4016545991.py:13: SettingWithCopyWarning: \n",
      "A value is trying to be set on a copy of a slice from a DataFrame.\n",
      "Try using .loc[row_indexer,col_indexer] = value instead\n",
      "\n",
      "See the caveats in the documentation: https://pandas.pydata.org/pandas-docs/stable/user_guide/indexing.html#returning-a-view-versus-a-copy\n",
      "  gen['PLNGENAN'] = pd.to_numeric(gen['PLNGENAN'])\n"
     ]
    }
   ],
   "source": [
    "import pandas as pd\n",
    "\n",
    "df = pd.read_csv('a1_egrid2016.csv', skiprows = 1)\n",
    "\n",
    "#### A) Which plant has generated the most energy? ####\n",
    "# First, create a df with only PNAME and PLNGENAN columns\n",
    "\n",
    "gen = df.iloc[:,[2,8]]\n",
    "\n",
    "# Next, clean the data so that commas are removed from PLNGENAN values and dtype is float64, and NaN is set to 0\n",
    "gen['PLNGENAN'] = gen['PLNGENAN'].str.replace(',', '', regex = True)\n",
    "\n",
    "gen['PLNGENAN'] = pd.to_numeric(gen['PLNGENAN'])\n",
    "\n",
    "# Finally, sort by descending PLNGENAN values to find the max, printing the result\n",
    "maxgen = gen.sort_values(by = 'PLNGENAN', ascending = False)\n",
    "print(maxgen.head)"
   ]
  },
  {
   "cell_type": "markdown",
   "metadata": {},
   "source": [
    "**8(a)**\n",
    "\n",
    "**Therefore, Palo Verde generated the most energy**"
   ]
  },
  {
   "cell_type": "code",
   "execution_count": 79,
   "metadata": {},
   "outputs": [
    {
     "name": "stdout",
     "output_type": "stream",
     "text": [
      "<bound method NDFrame.head of      PSTATABB                       PNAME        LAT\n",
      "11         AK                      Barrow  71.292000\n",
      "93         AK      NSB Wainwright Utility  70.642877\n",
      "88         AK         NSB Atqasuk Utility  70.482600\n",
      "131        AK            TNSG North Plant  70.235278\n",
      "90         AK         NSB Nuiqsut Utility  70.220565\n",
      "...       ...                         ...        ...\n",
      "8809       TX                     Turbine        NaN\n",
      "9349       WA               SPI - Everett        NaN\n",
      "9574       WI               Wheaton Solar        NaN\n",
      "9596       WV        Chemours Belle Plant        NaN\n",
      "9631       WV  UCC South Charleston Plant        NaN\n",
      "\n",
      "[9709 rows x 3 columns]>\n"
     ]
    }
   ],
   "source": [
    "#### B) and C) What is the name of the northernmost plant in the US? What state is it located? ####\n",
    "# We will perform the same operation as above, but with the goal of finding the max LAT value.\n",
    "# First, make a df with PSTATABB, PNAME and LAT\n",
    "\n",
    "lats = df[['PSTATABB', 'PNAME', 'LAT']]\n",
    "\n",
    "# Now we can sort by descending values of LAT\n",
    "\n",
    "maxlat = lats.sort_values(by = 'LAT', ascending = False)\n",
    "print(maxlat.head)"
   ]
  },
  {
   "cell_type": "markdown",
   "metadata": {},
   "source": [
    "**The answer to B and C are the Barrow plant is the northernmost and it is located in AK**"
   ]
  },
  {
   "cell_type": "code",
   "execution_count": 80,
   "metadata": {},
   "outputs": [
    {
     "name": "stderr",
     "output_type": "stream",
     "text": [
      "C:\\Users\\by197116\\AppData\\Local\\Temp\\ipykernel_10900\\1798161710.py:7: SettingWithCopyWarning: \n",
      "A value is trying to be set on a copy of a slice from a DataFrame.\n",
      "Try using .loc[row_indexer,col_indexer] = value instead\n",
      "\n",
      "See the caveats in the documentation: https://pandas.pydata.org/pandas-docs/stable/user_guide/indexing.html#returning-a-view-versus-a-copy\n",
      "  fty['PLNGENAN'] = fty['PLNGENAN'].str.replace(',', '', regex = True)\n",
      "C:\\Users\\by197116\\AppData\\Local\\Temp\\ipykernel_10900\\1798161710.py:9: SettingWithCopyWarning: \n",
      "A value is trying to be set on a copy of a slice from a DataFrame.\n",
      "Try using .loc[row_indexer,col_indexer] = value instead\n",
      "\n",
      "See the caveats in the documentation: https://pandas.pydata.org/pandas-docs/stable/user_guide/indexing.html#returning-a-view-versus-a-copy\n",
      "  fty['PLNGENAN'] = pd.to_numeric(fty['PLNGENAN'])\n"
     ]
    },
    {
     "data": {
      "image/png": "[encoded data removed]",
      "text/plain": [
       "<Figure size 2000x1200 with 1 Axes>"
      ]
     },
     "metadata": {},
     "output_type": "display_data"
    }
   ],
   "source": [
    "#### D) and E) Plot a bar plot showing the amount of energy produced by each fuel type across plants ####\n",
    "# We want to group PLNGENAN values by PLPRMFL\n",
    "# First, create a df of the above 2 columns\n",
    "fty = df[['PLPRMFL', 'PLNGENAN']]\n",
    "\n",
    "# Next, clean the data so that commas are removed from PLNGENAN values and dtype is float64\n",
    "fty['PLNGENAN'] = fty['PLNGENAN'].str.replace(',', '', regex = True)\n",
    "\n",
    "fty['PLNGENAN'] = pd.to_numeric(fty['PLNGENAN'])\n",
    "\n",
    "# Finally, group by fuel type and sum the generation value\n",
    "ftygroup = fty.groupby('PLPRMFL')['PLNGENAN'].sum().reset_index()\n",
    "\n",
    "import matplotlib.pyplot as plt\n",
    "\n",
    "plt.figure(figsize = (20,12))\n",
    "plt.bar(ftygroup['PLPRMFL'], ftygroup['PLNGENAN'])\n",
    "plt.xlabel(\"Fuel Type\")\n",
    "plt.ylabel(\"Total Generated (MWh)\")\n",
    "\n",
    "plt.show()\n",
    "\n",
    "# Here is the plot (Answer to D) and E) the most energy is produced by fuel type NG = Natural Gas"
   ]
  },
  {
   "cell_type": "markdown",
   "metadata": {},
   "source": [
    "**E) the most energy is produced by fuel type NG = Natural Gas**"
   ]
  },
  {
   "cell_type": "markdown",
   "metadata": {},
   "source": [
    "---\n",
    "\n",
    "## 9\n",
    "**[6 points]** *Vectorization*. When we first learn to code and think about iterating over an array, we often use loops. If implemented correctly, that does the trick. In machine learning, we iterate over so much data that those loops can lead to significant slow downs if they are not computationally efficient. In Python, vectorizing code and relying on matrix operations with efficient tools like numpy is typically the faster approach. Of course, numpy relies on loops to complete the computation, but this is at a lower level of programming (typically in C), and therefore is much more efficient. This exercise will explore the benefits of vectorization. Since many machine learning techniques rely on matrix operations, it's helpful to begin thinking about implementing algorithms using vector forms.\n",
    "\n",
    "Begin by creating an array of 10 million random numbers using the numpy `random.randn` module. Compute the sum of the squares of those random numbers first in a for loop, then using Numpy's `dot` module to perform an inner (dot) product. Time how long it takes to compute each and report the results and report the output. How many times faster is the vectorized code than the for loop approach? (Note - your results may vary from run to run).\n",
    "\n",
    "Your output should use the `print()` function as follows (where the # symbols represent your answers, to a reasonable precision of 4-5 significant figures):\n",
    "\n",
    "`Time [sec] (non-vectorized): ######`\n",
    "\n",
    "`Time [sec] (vectorized):     ######`\n",
    "\n",
    "`The vectorized code is ##### times faster than the nonvectorized code`"
   ]
  },
  {
   "cell_type": "code",
   "execution_count": 76,
   "metadata": {},
   "outputs": [],
   "source": [
    "# First, we create the array in its own kernel so it doesn't affect the computing time of subsequent calls\n",
    "\n",
    "numbers = np.random.randn(10000000)"
   ]
  },
  {
   "cell_type": "code",
   "execution_count": 77,
   "metadata": {},
   "outputs": [],
   "source": [
    "import time"
   ]
  },
  {
   "cell_type": "markdown",
   "metadata": {},
   "source": [
    "**ANSWER 9**"
   ]
  },
  {
   "cell_type": "code",
   "execution_count": 83,
   "metadata": {},
   "outputs": [
    {
     "name": "stdout",
     "output_type": "stream",
     "text": [
      "10002124.92436136\n",
      "10002124.924361264\n",
      "Time [sec] (non-vectorized):  4.5414\n",
      "\n",
      "Time [sec] (vectorized):  0.0050\n",
      "\n",
      "The vectorized code is   908.5  times faster than the nonvectorized code.\n"
     ]
    }
   ],
   "source": [
    "# In one kernel, we want to calculate the sum of squares with both a loop and vectorization, timing and printing each operation\n",
    "#### FOR LOOP ####\n",
    "\n",
    "start1 = time.time() #start loop timer\n",
    "\n",
    "squares = [] #create loop\n",
    "for number in numbers:\n",
    "    square = number ** 2\n",
    "    squares.append(square)\n",
    "\n",
    "print(sum(squares))\n",
    "\n",
    "end1 = time.time() #end loop timer\n",
    "\n",
    "#### VECTOR ####\n",
    "\n",
    "start2 = time.time() #start vector timer\n",
    "\n",
    "nn = np.dot(numbers, numbers) #vector operation\n",
    "print(nn)\n",
    "\n",
    "end2 = time.time() #end vector timer\n",
    "\n",
    "#### CALCULATING AND PRINTING ####\n",
    "loop = end1 - start1\n",
    "vec = end2 - start2\n",
    "operand = loop/vec\n",
    "ratio = f\"{operand: .1f}\"\n",
    "\n",
    "looptime = f\"{loop: .4f}\"\n",
    "vectime = f\"{vec: .4f}\"\n",
    "\n",
    "print(\"Time [sec] (non-vectorized):\", looptime)\n",
    "print(\"\\nTime [sec] (vectorized):\", vectime)\n",
    "print(\"\\nThe vectorized code is \", ratio, \" times faster than the nonvectorized code.\")"
   ]
  },
  {
   "cell_type": "markdown",
   "metadata": {},
   "source": [
    "---\n",
    "\n",
    "## 10\n",
    "**[10 points]** This exercise will walk through some basic numerical programming and probabilistic thinking exercises, two skills which are frequently used in machine learning for answering questions from our data.\n",
    "1. Synthesize $n=10^4$ normally distributed data points with mean $\\mu=2$ and a standard deviation of $\\sigma=1$. Call these observations from a random variable $X$, and call the vector of observations that you generate, $\\textbf{x}$.\n",
    "2. Calculate the mean and standard deviation of $\\textbf{x}$ to validate (1) and provide the result to a precision of four significant figures.\n",
    "3. Plot a histogram of the data in $\\textbf{x}$ with 30 bins\n",
    "4. What is the 90th percentile of $\\textbf{x}$? The 90th percentile is the value below which 90% of observations can be found.\n",
    "5. What is the 99th percentile of $\\textbf{x}$?\n",
    "6. Now synthesize $n=10^4$ normally distributed data points with mean $\\mu=0$ and a standard deviation of $\\sigma=3$. Call these observations from a random variable $Y$, and call the vector of observations that you generate, $\\textbf{y}$.\n",
    "7. Create a new figure and plot the histogram of the data in $\\textbf{y}$ on the same axes with the histogram of $\\textbf{x}$, so that both histograms can be seen and compared.\n",
    "8. Using the observations from $\\textbf{x}$ and $\\textbf{y}$, estimate $E[XY]$"
   ]
  },
  {
   "cell_type": "code",
   "execution_count": 2,
   "metadata": {},
   "outputs": [
    {
     "name": "stdout",
     "output_type": "stream",
     "text": [
      "Mean(x):  2.0065\n",
      "STD(x):  0.9978\n"
     ]
    }
   ],
   "source": [
    "import numpy as np\n",
    "\n",
    "# Create a sample x, according to the above specs, from a theoretical population X\n",
    "x = np.random.normal(loc = 2, scale = 1, size = 10000)\n",
    "\n",
    "# Calculate mean and sd of x to 4 decimal places\n",
    "xmean = np.mean(x)\n",
    "xsd = np.std(x)\n",
    "\n",
    "print(f\"Mean(x): {xmean: .4f}\")\n",
    "print(f\"STD(x): {xsd: .4f}\")"
   ]
  },
  {
   "cell_type": "code",
   "execution_count": 4,
   "metadata": {},
   "outputs": [
    {
     "data": {
      "image/png": "[encoded data removed]",
      "text/plain": [
       "<Figure size 640x480 with 1 Axes>"
      ]
     },
     "metadata": {},
     "output_type": "display_data"
    }
   ],
   "source": [
    "import matplotlib.pyplot as plt\n",
    "\n",
    "# Plot a histogram of all the x data with 30 bins\n",
    "plt.hist(x, bins = 30, alpha = 0.6, color = 'm')\n",
    "plt.title('Distribution of x')\n",
    "plt.xlabel('Value')\n",
    "plt.ylabel('Frequency')\n",
    "plt.show()"
   ]
  },
  {
   "cell_type": "code",
   "execution_count": 5,
   "metadata": {},
   "outputs": [
    {
     "name": "stdout",
     "output_type": "stream",
     "text": [
      "90th Percentile of x:  3.2892\n",
      "99th Percentile of x:  4.3170\n"
     ]
    }
   ],
   "source": [
    "# Calculate the 90th and 99th percentiles of x\n",
    "\n",
    "x90 = np.percentile(x,90)\n",
    "x99 = np.percentile(x,99)\n",
    "\n",
    "print(f\"90th Percentile of x: {x90: .4f}\")\n",
    "print(f\"99th Percentile of x: {x99: .4f}\")"
   ]
  },
  {
   "cell_type": "code",
   "execution_count": 6,
   "metadata": {},
   "outputs": [
    {
     "name": "stdout",
     "output_type": "stream",
     "text": [
      "Mean(y):  0.0351\n",
      "STD(y):  2.9959\n"
     ]
    }
   ],
   "source": [
    "# Create a sample y, according to the above specs, from a theoretical population Y\n",
    "y = np.random.normal(loc = 0, scale = 3, size = 10000)\n",
    "\n",
    "# Calculate mean and sd of y to 4 decimal places\n",
    "ymean = np.mean(y)\n",
    "ysd = np.std(y)\n",
    "\n",
    "print(f\"Mean(y): {ymean: .4f}\")\n",
    "print(f\"STD(y): {ysd: .4f}\")"
   ]
  },
  {
   "cell_type": "code",
   "execution_count": 8,
   "metadata": {},
   "outputs": [
    {
     "data": {
      "image/png": "[encoded data removed]",
      "text/plain": [
       "<Figure size 640x480 with 1 Axes>"
      ]
     },
     "metadata": {},
     "output_type": "display_data"
    }
   ],
   "source": [
    "# Plot a histogram of all the x and y data with 30 bins\n",
    "plt.hist(y, bins = 30, alpha = 0.3, label = 'y', color = 'c')\n",
    "plt.hist(x, bins = 30, alpha = 0.3, label = 'x', color = 'm')\n",
    "plt.legend(loc = 'upper right')\n",
    "plt.title('Distributions of x and y')\n",
    "plt.xlabel('Value')\n",
    "plt.ylabel('Frequency')\n",
    "plt.show()"
   ]
  },
  {
   "cell_type": "code",
   "execution_count": 9,
   "metadata": {},
   "outputs": [
    {
     "name": "stdout",
     "output_type": "stream",
     "text": [
      "E[XY]:  0.0873\n"
     ]
    }
   ],
   "source": [
    "# E[XY] is the expected value of X and Y. \n",
    "# Given our samples x and y, the expected value would be the mean of the product of x and y.\n",
    "\n",
    "prodxy = x * y\n",
    "exy = np.mean(prodxy)\n",
    "\n",
    "print(f\"E[XY]: {exy: .4f}\")"
   ]
  },
  {
   "cell_type": "markdown",
   "metadata": {},
   "source": [
    "---\n",
    "\n",
    "# Version Control via Git"
   ]
  },
  {
   "cell_type": "markdown",
   "metadata": {},
   "source": [
    "## 11\n",
    "**[4 points]** Git is efficient for collaboration, and expectation in industry, and one of the best ways to share results in academia. You can even use some Git repositories (e.g. Github) as hosts for website, such as with the [course website](https://kylebradbury.github.io/ids705/index.html). As a data scientist with experience in machine learning, Git is expected. We will interact with Git repositories (a.k.a. repos) throughout this course, and your project will require the use of git repos for collaboration.\n",
    "\n",
    "Complete the [Atlassian Git tutorial](https://www.atlassian.com/git/tutorials/what-is-version-control), specifically the following listed sections. Try each concept that's presented. For this tutorial, instead of using BitBucket as your remote repository host, you may use your preferred platform such as [Github](https://github.com/) or [Duke's Gitlab](https://gitlab.oit.duke.edu/users/sign_in).\n",
    "1. [What is version control](https://www.atlassian.com/git/tutorials/what-is-version-control)\n",
    "2. [What is Git](https://www.atlassian.com/git/tutorials/what-is-git)\n",
    "3. [Install Git](https://www.atlassian.com/git/tutorials/install-git)\n",
    "4. [Setting up a repository](https://www.atlassian.com/git/tutorials/install-git)\n",
    "5. [Saving changes](https://www.atlassian.com/git/tutorials/saving-changes)\n",
    "6. [Inspecting a repository](https://www.atlassian.com/git/tutorials/inspecting-a-repository)\n",
    "7. [Undoing changes](https://www.atlassian.com/git/tutorials/undoing-changes)\n",
    "8. [Rewriting history](https://www.atlassian.com/git/tutorials/rewriting-history)\n",
    "9. [Syncing](https://www.atlassian.com/git/tutorials/syncing)\n",
    "10. [Making a pull request](https://www.atlassian.com/git/tutorials/making-a-pull-request)\n",
    "11. [Using branches](https://www.atlassian.com/git/tutorials/using-branches)\n",
    "12. [Comparing workflows](https://www.atlassian.com/git/tutorials/comparing-workflows)\n",
    "\n",
    "I also have created two videos on the topic to help you understand some of these concepts: [Git basics](https://www.youtube.com/watch?v=fBCwfoBr2ng) and a [step-by-step tutorial](https://www.youtube.com/watch?v=nH7qJHx-h5s).\n",
    "\n",
    "For your answer, affirm that you *either* completed the tutorials above OR have previous experience with ALL of the concepts above. Confirm this by typing your name below and selecting the situation that applies from the two options in brackets."
   ]
  },
  {
   "cell_type": "markdown",
   "metadata": {},
   "source": [
    "**ANSWER 11**\n",
    "\n",
    "**I, Bryce Young, affirm that I have completed the above tutorials.**"
   ]
  },
  {
   "cell_type": "markdown",
   "metadata": {},
   "source": [
    "---\n",
    "\n",
    "# Exploratory Data Analysis\n",
    "## 12\n",
    "**[15 points]** Here you'll bring together some of the individual skills that you demonstrated above and create a Jupyter notebook based blog post on your exploratory data analysis. Your goal is to identify a question or problem and to work towards solving it or providing additional information or evidence (data) related to it through your data analysis. Below, we walk through a process to follow for your analysis. Additionally, you can find an [example of a well-done exploratory data analysis here from past years](https://github.com/kylebradbury/ids705/blob/master/assignments/Assignment_1_Q12_Example.ipynb).\n",
    "\n",
    "1. Find a dataset that interests you and relates to a question or problem that you find intriguing.\n",
    "2. Describe the dataset, the source of the data, and the reason the dataset was of interest. Include a description of the features, data size, data creator and year of creation (if available), etc. What question are you hoping to answer through exploring the dataset?\n",
    "3. Check the data and see if they need to be cleaned: are there missing values? Are there clearly erroneous values? Do two tables need to be merged together? Clean the data so it can be visualized. If the data are clean, state how you know they are clean (what did you check?).\n",
    "3. Plot the data, demonstrating interesting features that you discover. Are there any relationships between variables that were surprising or patterns that emerged? Please exercise creativity and curiosity in your plots. You should have at least a ~3 plots exploring the data in different ways.\n",
    "4. What insights are you able to take away from exploring the data? Is there a reason why analyzing the dataset you chose is particularly interesting or important? Summarize this for a general audience (imagine your publishing a blog post online) - boil down your findings in a way that is accessible, but still accurate.\n",
    "\n",
    "Here your analysis will evaluated based on:\n",
    "1. Motivation: was the purpose of the choice of data clearly articulated? Why was the dataset chosen and what was the goal of the analysis?\n",
    "2. Data cleaning: were any issues with the data investigated and, if found, were they resolved?\n",
    "3. Quality of data exploration: were at least 4 unique plots (minimum) included and did those plots demonstrate interesting aspects of the data? Was there a clear purpose and takeaway from EACH plot? \n",
    "4. Interpretation: Were the insights revealed through the analysis and their potential implications clearly explained? Was there an overall conclusion to the analysis?"
   ]
  },
  {
   "cell_type": "markdown",
   "metadata": {},
   "source": [
    "# The Rise of Prescribed Burning in Montana and Idaho\n",
    "## Background\n",
    "If you're tapped into the wildfire scene, you will no doubt have heard a notable increase in the amount of news articles, scientific publications, policy, funding and general conversations about presribed burning and cultural burning. If you're not tapped into the wildfire scene, it is worth noting the context of these conversations.\n",
    "\n",
    "For over a century, the general wildfire policy of the US has been to keep wildfires small. Come to find out, low-intensity wildfires remove the most flammable material in the forest while strong, healthy trees continue to thrive and plant communities regenrate. It has only been in recent years that we have seen the dire implications of a century of failed policy: there is an abundance of highly flammable material in overgrown forests. Combined with increasingly hot and dry climatic conditions, and a rapidly growing sector of homes being built in or near wildlands, we can see why wildfires have been so explosive and disastrous in recent years, and why there are billions of dollars in federal funding going towards this issue.\n",
    "\n",
    "TL;DR\n",
    "Prescribed and cultural burns are a way to introduce fire back into forest ecosystems under controlled conditions with the goal of removing the most flammable material in forests. Usually the purpose is to help the forest or to help reduce the wildfire risk to a community. \n",
    "\n",
    "I started my wildfire career in 2013, and later started my own forestry company called Bole & Acre in 2020. B&A works with landowners to reduce \"fuels\" on their forested lands to protect their homes from wildfire. Part of my job is conducting low-intensity burns on their land. In order to do this, I have to apply for a burn permit and report on certain information about the burn I am conducting. So where does all this information go?\n",
    "\n",
    "The Montana/Idaho Airshed Group (MAIG) uses this information to report on and control air quality in certain regions and sensitive areas. Since I work at the National Center for Landscape Fire Analysis, I was able to get a data set of over 35,000 prescribed burns that were conducted between 2004-2022. I was interested in seeing how much we're burning now compared to earlier years, and the volume of air pollution that is being produced as a result.\n",
    "\n",
    "First, I imported the file as a data frame."
   ]
  },
  {
   "cell_type": "code",
   "execution_count": 15,
   "metadata": {},
   "outputs": [
    {
     "name": "stdout",
     "output_type": "stream",
     "text": [
      "Proposal Date      object\n",
      "ID                  int64\n",
      "Member ID           int64\n",
      "Member             object\n",
      "Office             object\n",
      "Unit Name          object\n",
      "Location           object\n",
      "Burn Type          object\n",
      "Airshed            object\n",
      "Impact Zone        object\n",
      "Elevation           int64\n",
      "Tons/Acre         float64\n",
      "Acres Burned      float64\n",
      "Proposed Acres      int64\n",
      "Priority           object\n",
      "Latitude          float64\n",
      "Longitude         float64\n",
      "Comments           object\n",
      "Status             object\n",
      "dtype: object\n"
     ]
    }
   ],
   "source": [
    "import pandas as pd\n",
    "df = pd.read_csv(\"AMG_burnunits2022.csv\")\n",
    "print(df.dtypes)"
   ]
  },
  {
   "cell_type": "markdown",
   "metadata": {},
   "source": [
    "## Data Cleaning\n",
    "The only issue I found with the dataset was that the column 'Proposal Date' was dtype = 'object', which is not very handy for analysis. If I want to view annual aggregations of information on burns, I need to be able to derive the year from this date. So I set the dtype to datetime64, then extracted the year from that date and placed that in a new column called 'Year'.\n",
    "\n",
    "There was also a 'Status' column, and I was only interested in the burns that have been completed. So I removed any rows that were not 'Completed'. This removed about 3000 rows in my dataset, but I still have over 35,000 to work with!"
   ]
  },
  {
   "cell_type": "code",
   "execution_count": 16,
   "metadata": {},
   "outputs": [
    {
     "name": "stdout",
     "output_type": "stream",
     "text": [
      "Proposal Date     datetime64[ns]\n",
      "ID                         int64\n",
      "Member ID                  int64\n",
      "Member                    object\n",
      "Office                    object\n",
      "Unit Name                 object\n",
      "Location                  object\n",
      "Burn Type                 object\n",
      "Airshed                   object\n",
      "Impact Zone               object\n",
      "Elevation                  int64\n",
      "Tons/Acre                float64\n",
      "Acres Burned             float64\n",
      "Proposed Acres             int64\n",
      "Priority                  object\n",
      "Latitude                 float64\n",
      "Longitude                float64\n",
      "Comments                  object\n",
      "Status                    object\n",
      "Year                       int32\n",
      "dtype: object\n"
     ]
    }
   ],
   "source": [
    "df['Proposal Date'] = pd.to_datetime(df['Proposal Date'])\n",
    "df['Year'] = df['Proposal Date'].dt.year\n",
    "print(df.dtypes)"
   ]
  },
  {
   "cell_type": "code",
   "execution_count": 19,
   "metadata": {},
   "outputs": [
    {
     "data": {
      "text/plain": [
       "<bound method NDFrame.head of 0        2004\n",
       "1        2004\n",
       "2        2004\n",
       "3        2004\n",
       "4        2004\n",
       "         ... \n",
       "35427    2022\n",
       "35428    2022\n",
       "35429    2022\n",
       "35430    2022\n",
       "35431    2022\n",
       "Name: Year, Length: 35432, dtype: int32>"
      ]
     },
     "execution_count": 19,
     "metadata": {},
     "output_type": "execute_result"
    }
   ],
   "source": [
    "burnsC = df[df['Status'] == 'Completed']\n",
    "burnsC.reset_index(drop = True, inplace = True)\n",
    "burnsC['Year'].head"
   ]
  },
  {
   "cell_type": "markdown",
   "metadata": {},
   "source": [
    "## Analysis: How Many Burns are Happening Over Time?\n",
    "Finding how many burns were happening over time was straightforward. I simply extracted the unique values of 'Year' and counted each value, then plotted that in a histogram over time. *See figure below*\n",
    "\n",
    "The findings confirmed my suspicions - we are conducting a lot more burns now than we were in past years!"
   ]
  },
  {
   "cell_type": "code",
   "execution_count": 26,
   "metadata": {},
   "outputs": [
    {
     "data": {
      "image/png": "[encoded data removed]",
      "text/plain": [
       "<Figure size 1600x1000 with 1 Axes>"
      ]
     },
     "metadata": {},
     "output_type": "display_data"
    }
   ],
   "source": [
    "year_counts = burnsC['Year'].value_counts().sort_index()\n",
    "\n",
    "plt.figure(figsize = (16, 10))\n",
    "plt.bar(year_counts.index, year_counts.values)\n",
    "plt.xlabel('Year')\n",
    "plt.ylabel('Burns Completed')\n",
    "plt.title('Number of Burns: Prescribed Burns in MT and ID, 2004-2022')\n",
    "plt.xticks(year_counts.index)\n",
    "for x, y in zip(year_counts.index, year_counts.values):\n",
    "    plt.text(x, y, str(y), ha='center', va='bottom')\n",
    "plt.show()"
   ]
  },
  {
   "cell_type": "markdown",
   "metadata": {},
   "source": [
    "## Analysis: How Many Acres are being Burned Over Time?\n",
    "When we talk about reducing wildfire risk to communities and forests, we don't care much about number of burn operations. We care about the number of acres burned. So I performed a similar operation by grouping 'Acres Burned' by 'Year' and finding the sum. As one might expect, MT and ID are not only conducting many more burns, but they are also burning more acres by orders of magnitude (*See figure below*)."
   ]
  },
  {
   "cell_type": "code",
   "execution_count": 25,
   "metadata": {},
   "outputs": [
    {
     "name": "stdout",
     "output_type": "stream",
     "text": [
      "    Year  Acres Burned\n",
      "0   2004       16797.0\n",
      "1   2005       16305.0\n",
      "2   2006       16527.0\n",
      "3   2007       13610.0\n",
      "4   2008       19646.0\n",
      "5   2009        6873.0\n",
      "6   2010       16112.0\n",
      "7   2011       11378.0\n",
      "8   2012       14374.0\n",
      "9   2013       21668.0\n",
      "10  2014       38729.0\n",
      "11  2015       40322.0\n",
      "12  2016       55924.0\n",
      "13  2017       85385.0\n",
      "14  2018      134675.0\n",
      "15  2019      152369.0\n",
      "16  2020       69734.0\n",
      "17  2021      127503.0\n",
      "18  2022      112653.0\n"
     ]
    }
   ],
   "source": [
    "acreyears = burnsC.groupby('Year')['Acres Burned'].sum().reset_index()\n",
    "print(acreyears)"
   ]
  },
  {
   "cell_type": "code",
   "execution_count": 27,
   "metadata": {},
   "outputs": [
    {
     "data": {
      "image/png": "[encoded data removed]",
      "text/plain": [
       "<Figure size 1600x800 with 1 Axes>"
      ]
     },
     "metadata": {},
     "output_type": "display_data"
    }
   ],
   "source": [
    "plt.figure(figsize = (16,8))\n",
    "plt.bar(acreyears['Year'], acreyears['Acres Burned'])\n",
    "plt.xlabel(\"Year\")\n",
    "plt.ylabel(\"Total Acres Burned\")\n",
    "plt.title('Acres Burned: Prescribed Burns in MT and ID, 2004-2022')\n",
    "plt.xticks(year_counts.index)\n",
    "for x, y in zip(year_counts.index, acreyears['Acres Burned']):\n",
    "    plt.text(x, y, str(y), ha='center', va='bottom')\n",
    "plt.show()"
   ]
  },
  {
   "cell_type": "markdown",
   "metadata": {},
   "source": [
    "## Analysis 3: How Large are the Burned Units?\n",
    "The burned units are not very relevant, but I was curious - based on comparing the above plots - if the burn unit sizes had also increased. There definitely is some positive correlation between 'Acres per Burn' over time, but it is not very strong and we probably don't have enough years to draw meaningful information from this data."
   ]
  },
  {
   "cell_type": "code",
   "execution_count": 39,
   "metadata": {},
   "outputs": [],
   "source": [
    "numburns = year_counts.to_frame().reset_index()\n",
    "\n",
    "numburns.columns = ['Year', 'Total Burns']"
   ]
  },
  {
   "cell_type": "code",
   "execution_count": 40,
   "metadata": {},
   "outputs": [
    {
     "data": {
      "text/html": [
       "<div>\n",
       "<style scoped>\n",
       "    .dataframe tbody tr th:only-of-type {\n",
       "        vertical-align: middle;\n",
       "    }\n",
       "\n",
       "    .dataframe tbody tr th {\n",
       "        vertical-align: top;\n",
       "    }\n",
       "\n",
       "    .dataframe thead th {\n",
       "        text-align: right;\n",
       "    }\n",
       "</style>\n",
       "<table border=\"1\" class=\"dataframe\">\n",
       "  <thead>\n",
       "    <tr style=\"text-align: right;\">\n",
       "      <th></th>\n",
       "      <th>Year</th>\n",
       "      <th>Acres Burned</th>\n",
       "      <th>Total Burns</th>\n",
       "      <th>Acres per Burn</th>\n",
       "    </tr>\n",
       "  </thead>\n",
       "  <tbody>\n",
       "    <tr>\n",
       "      <th>0</th>\n",
       "      <td>2004</td>\n",
       "      <td>16797.0</td>\n",
       "      <td>1391</td>\n",
       "      <td>12.075485</td>\n",
       "    </tr>\n",
       "    <tr>\n",
       "      <th>1</th>\n",
       "      <td>2005</td>\n",
       "      <td>16305.0</td>\n",
       "      <td>680</td>\n",
       "      <td>23.977941</td>\n",
       "    </tr>\n",
       "    <tr>\n",
       "      <th>2</th>\n",
       "      <td>2006</td>\n",
       "      <td>16527.0</td>\n",
       "      <td>657</td>\n",
       "      <td>25.155251</td>\n",
       "    </tr>\n",
       "    <tr>\n",
       "      <th>3</th>\n",
       "      <td>2007</td>\n",
       "      <td>13610.0</td>\n",
       "      <td>676</td>\n",
       "      <td>20.133136</td>\n",
       "    </tr>\n",
       "    <tr>\n",
       "      <th>4</th>\n",
       "      <td>2008</td>\n",
       "      <td>19646.0</td>\n",
       "      <td>752</td>\n",
       "      <td>26.125000</td>\n",
       "    </tr>\n",
       "    <tr>\n",
       "      <th>5</th>\n",
       "      <td>2009</td>\n",
       "      <td>6873.0</td>\n",
       "      <td>221</td>\n",
       "      <td>31.099548</td>\n",
       "    </tr>\n",
       "    <tr>\n",
       "      <th>6</th>\n",
       "      <td>2010</td>\n",
       "      <td>16112.0</td>\n",
       "      <td>798</td>\n",
       "      <td>20.190476</td>\n",
       "    </tr>\n",
       "    <tr>\n",
       "      <th>7</th>\n",
       "      <td>2011</td>\n",
       "      <td>11378.0</td>\n",
       "      <td>775</td>\n",
       "      <td>14.681290</td>\n",
       "    </tr>\n",
       "    <tr>\n",
       "      <th>8</th>\n",
       "      <td>2012</td>\n",
       "      <td>14374.0</td>\n",
       "      <td>750</td>\n",
       "      <td>19.165333</td>\n",
       "    </tr>\n",
       "    <tr>\n",
       "      <th>9</th>\n",
       "      <td>2013</td>\n",
       "      <td>21668.0</td>\n",
       "      <td>1189</td>\n",
       "      <td>18.223717</td>\n",
       "    </tr>\n",
       "    <tr>\n",
       "      <th>10</th>\n",
       "      <td>2014</td>\n",
       "      <td>38729.0</td>\n",
       "      <td>1605</td>\n",
       "      <td>24.130218</td>\n",
       "    </tr>\n",
       "    <tr>\n",
       "      <th>11</th>\n",
       "      <td>2015</td>\n",
       "      <td>40322.0</td>\n",
       "      <td>1772</td>\n",
       "      <td>22.755079</td>\n",
       "    </tr>\n",
       "    <tr>\n",
       "      <th>12</th>\n",
       "      <td>2016</td>\n",
       "      <td>55924.0</td>\n",
       "      <td>2801</td>\n",
       "      <td>19.965727</td>\n",
       "    </tr>\n",
       "    <tr>\n",
       "      <th>13</th>\n",
       "      <td>2017</td>\n",
       "      <td>85385.0</td>\n",
       "      <td>3220</td>\n",
       "      <td>26.517081</td>\n",
       "    </tr>\n",
       "    <tr>\n",
       "      <th>14</th>\n",
       "      <td>2018</td>\n",
       "      <td>134675.0</td>\n",
       "      <td>3864</td>\n",
       "      <td>34.853778</td>\n",
       "    </tr>\n",
       "    <tr>\n",
       "      <th>15</th>\n",
       "      <td>2019</td>\n",
       "      <td>152369.0</td>\n",
       "      <td>4623</td>\n",
       "      <td>32.958901</td>\n",
       "    </tr>\n",
       "    <tr>\n",
       "      <th>16</th>\n",
       "      <td>2020</td>\n",
       "      <td>69734.0</td>\n",
       "      <td>2668</td>\n",
       "      <td>26.137181</td>\n",
       "    </tr>\n",
       "    <tr>\n",
       "      <th>17</th>\n",
       "      <td>2021</td>\n",
       "      <td>127503.0</td>\n",
       "      <td>3857</td>\n",
       "      <td>33.057558</td>\n",
       "    </tr>\n",
       "    <tr>\n",
       "      <th>18</th>\n",
       "      <td>2022</td>\n",
       "      <td>112653.0</td>\n",
       "      <td>3133</td>\n",
       "      <td>35.956910</td>\n",
       "    </tr>\n",
       "  </tbody>\n",
       "</table>\n",
       "</div>"
      ],
      "text/plain": [
       "    Year  Acres Burned  Total Burns  Acres per Burn\n",
       "0   2004       16797.0         1391       12.075485\n",
       "1   2005       16305.0          680       23.977941\n",
       "2   2006       16527.0          657       25.155251\n",
       "3   2007       13610.0          676       20.133136\n",
       "4   2008       19646.0          752       26.125000\n",
       "5   2009        6873.0          221       31.099548\n",
       "6   2010       16112.0          798       20.190476\n",
       "7   2011       11378.0          775       14.681290\n",
       "8   2012       14374.0          750       19.165333\n",
       "9   2013       21668.0         1189       18.223717\n",
       "10  2014       38729.0         1605       24.130218\n",
       "11  2015       40322.0         1772       22.755079\n",
       "12  2016       55924.0         2801       19.965727\n",
       "13  2017       85385.0         3220       26.517081\n",
       "14  2018      134675.0         3864       34.853778\n",
       "15  2019      152369.0         4623       32.958901\n",
       "16  2020       69734.0         2668       26.137181\n",
       "17  2021      127503.0         3857       33.057558\n",
       "18  2022      112653.0         3133       35.956910"
      ]
     },
     "execution_count": 40,
     "metadata": {},
     "output_type": "execute_result"
    }
   ],
   "source": [
    "burnacres = pd.merge(acreyears, numburns, on = 'Year')\n",
    "\n",
    "burnacres['Acres per Burn'] = burnacres['Acres Burned'] / burnacres['Total Burns']\n",
    "\n",
    "burnacres"
   ]
  },
  {
   "cell_type": "code",
   "execution_count": 42,
   "metadata": {},
   "outputs": [
    {
     "data": {
      "image/png": "[encoded data removed]",
      "text/plain": [
       "<Figure size 1600x800 with 1 Axes>"
      ]
     },
     "metadata": {},
     "output_type": "display_data"
    }
   ],
   "source": [
    "m, b = np.polyfit(burnacres['Year'], burnacres['Acres per Burn'], 1)\n",
    "\n",
    "plt.figure(figsize = (16,8))\n",
    "plt.plot(burnacres['Year'], burnacres['Acres per Burn'])\n",
    "plt.xticks(burnacres['Year'])\n",
    "plt.xlabel('Year')\n",
    "plt.ylabel('Acres per Burn')\n",
    "plt.title('Acres per Burn Over Time, MT and ID 2004-2022')\n",
    "plt.show()"
   ]
  },
  {
   "cell_type": "markdown",
   "metadata": {},
   "source": [
    "## Analysis 4: Emmissions\n",
    "We are interested in emissions for two reasons: human health and climate health. The data that I have does not explicitly report on emmissions. However, the MAIG Operating Guide (2008) provides some helpful clues. Based on the EPA's guidelines (1998), they are required to report on emmissions of carbon monoxide (CO), nitrous oxides (NOx), particulate matter of a specific size (PM2.5), and volatile organic compounds (VOC). Per ton of fuel burned in Idaho and Montana, those compounds are released in quantities of 222.5, 3.63, 12.06, and 4.0 lbs, respectively. Furthermore, MAIG's rule of thumb is that 60% of available fuel is normally consumed in a prescribed burn. Therefore, I created new columns in the table of completed burns to include pounds (lbs) of pollutants emmitted by each prescribed burn, and one column that took the sum of each pollutant weight.\n",
    "\n",
    "Aside: Apparently, in 1998, people were not concerned about CO2 emmissions. I sifted through some literature but did not find a definitive answer from the EPA relating to how many pounds of CO2 are released per ton of fuel consumed."
   ]
  },
  {
   "cell_type": "code",
   "execution_count": 45,
   "metadata": {},
   "outputs": [
    {
     "name": "stderr",
     "output_type": "stream",
     "text": [
      "C:\\Users\\by197116\\AppData\\Local\\Temp\\ipykernel_10900\\3995721481.py:1: SettingWithCopyWarning: \n",
      "A value is trying to be set on a copy of a slice from a DataFrame.\n",
      "Try using .loc[row_indexer,col_indexer] = value instead\n",
      "\n",
      "See the caveats in the documentation: https://pandas.pydata.org/pandas-docs/stable/user_guide/indexing.html#returning-a-view-versus-a-copy\n",
      "  burnsC['CO (lb)'] = burnsC['Tons/Acre'] * 0.6 * 222.5\n",
      "C:\\Users\\by197116\\AppData\\Local\\Temp\\ipykernel_10900\\3995721481.py:2: SettingWithCopyWarning: \n",
      "A value is trying to be set on a copy of a slice from a DataFrame.\n",
      "Try using .loc[row_indexer,col_indexer] = value instead\n",
      "\n",
      "See the caveats in the documentation: https://pandas.pydata.org/pandas-docs/stable/user_guide/indexing.html#returning-a-view-versus-a-copy\n",
      "  burnsC['NOx (lb)'] = burnsC['Tons/Acre'] * 0.6 * 3.63\n",
      "C:\\Users\\by197116\\AppData\\Local\\Temp\\ipykernel_10900\\3995721481.py:3: SettingWithCopyWarning: \n",
      "A value is trying to be set on a copy of a slice from a DataFrame.\n",
      "Try using .loc[row_indexer,col_indexer] = value instead\n",
      "\n",
      "See the caveats in the documentation: https://pandas.pydata.org/pandas-docs/stable/user_guide/indexing.html#returning-a-view-versus-a-copy\n",
      "  burnsC['PM25 (lb)'] = burnsC['Tons/Acre'] * 0.6 * 12.06\n",
      "C:\\Users\\by197116\\AppData\\Local\\Temp\\ipykernel_10900\\3995721481.py:4: SettingWithCopyWarning: \n",
      "A value is trying to be set on a copy of a slice from a DataFrame.\n",
      "Try using .loc[row_indexer,col_indexer] = value instead\n",
      "\n",
      "See the caveats in the documentation: https://pandas.pydata.org/pandas-docs/stable/user_guide/indexing.html#returning-a-view-versus-a-copy\n",
      "  burnsC['VOC (lb)'] = burnsC['Tons/Acre'] * 0.6 * 4\n",
      "C:\\Users\\by197116\\AppData\\Local\\Temp\\ipykernel_10900\\3995721481.py:5: SettingWithCopyWarning: \n",
      "A value is trying to be set on a copy of a slice from a DataFrame.\n",
      "Try using .loc[row_indexer,col_indexer] = value instead\n",
      "\n",
      "See the caveats in the documentation: https://pandas.pydata.org/pandas-docs/stable/user_guide/indexing.html#returning-a-view-versus-a-copy\n",
      "  burnsC['Total Emiss'] = burnsC['CO (lb)'] + burnsC['NOx (lb)'] + burnsC['PM25 (lb)'] + burnsC['VOC (lb)']\n"
     ]
    },
    {
     "data": {
      "text/plain": [
       "<bound method NDFrame.head of 0         934.500\n",
       "1         801.000\n",
       "2         534.000\n",
       "3        8790.975\n",
       "4        8790.975\n",
       "           ...   \n",
       "35427    4672.500\n",
       "35428    2670.000\n",
       "35429     667.500\n",
       "35430     534.000\n",
       "35431     667.500\n",
       "Name: CO (lb), Length: 35432, dtype: float64>"
      ]
     },
     "execution_count": 45,
     "metadata": {},
     "output_type": "execute_result"
    }
   ],
   "source": [
    "burnsC['CO (lb)'] = burnsC['Tons/Acre'] * 0.6 * 222.5\n",
    "burnsC['NOx (lb)'] = burnsC['Tons/Acre'] * 0.6 * 3.63\n",
    "burnsC['PM25 (lb)'] = burnsC['Tons/Acre'] * 0.6 * 12.06\n",
    "burnsC['VOC (lb)'] = burnsC['Tons/Acre'] * 0.6 * 4\n",
    "burnsC['Total Emiss'] = burnsC['CO (lb)'] + burnsC['NOx (lb)'] + burnsC['PM25 (lb)'] + burnsC['VOC (lb)']\n",
    "\n",
    "burnsC['CO (lb)'].head"
   ]
  },
  {
   "cell_type": "code",
   "execution_count": 60,
   "metadata": {},
   "outputs": [
    {
     "name": "stdout",
     "output_type": "stream",
     "text": [
      "Index(['Airshed', 'Impact Zone', 'Tons/Acre', 'Acres Burned', 'Year',\n",
      "       'Total Emiss'],\n",
      "      dtype='object')\n"
     ]
    }
   ],
   "source": [
    "emits = burnsC[['Airshed', 'Impact Zone', 'Tons/Acre', 'Acres Burned', 'Year', 'Total Emiss']]\n",
    "print(emits.columns)"
   ]
  },
  {
   "cell_type": "markdown",
   "metadata": {},
   "source": [
    "I wanted to see a distribution of pollutants per airshed in Montana and Idaho. Airsheds are delineated topographically. In sum, Airsheds 1-8 are Western Montana, 9-10 are Eastern Montana, 11-13 are the Idaho Panhandle, and 13-25 are Middle and Southern Idaho. \n",
    "\n",
    "I plotted the data in yet another barplot (*See figure below*), and do not see any logical distributions. If I wanted to see logical distributions, I would have to map this spatially, which is outside the scope of this exercise. \n",
    "\n",
    "However, we can still infer some information from the chart. There are two high-pollutant airsheds over the course of 2004-2022: 2 and 11, which correspond to impact zones Sandpoint, ID and Kalispell, MT, respectively (an impact zone is an area with known sensitivity or air quality issues).\n",
    "\n",
    "There are too many factors involving politics, demographics, ecosystems, and labor availability that are required to analyze WHY more acres are burned in these airsheds. There is a hanging question, however: is the air quality in Sandpoint and Kalispell - on average - WORSE because of the emmissions from prescribed burning, or is it BETTER because of the foregone emmissions saved by reducing wildfire intensity through prescribed burning? In other words, how many licks does it take to get to the center of a tootsie pop?"
   ]
  },
  {
   "cell_type": "code",
   "execution_count": 87,
   "metadata": {},
   "outputs": [
    {
     "data": {
      "image/png": "[encoded data removed]",
      "text/plain": [
       "<Figure size 1600x1000 with 1 Axes>"
      ]
     },
     "metadata": {},
     "output_type": "display_data"
    }
   ],
   "source": [
    "airshedemits = emits.groupby('Airshed')['Total Emiss'].sum().reset_index()\n",
    "\n",
    "plt.figure(figsize = (16, 10))\n",
    "plt.bar(airshedemits['Airshed'], airshedemits['Total Emiss'])\n",
    "plt.xlabel('Airshed')\n",
    "plt.ylabel('Total Emissions (lbs)')\n",
    "plt.title('Emissions per Airshed in MT and ID, 2004-2022')\n",
    "plt.xticks(airshedemits['Airshed'])\n",
    "plt.show()"
   ]
  },
  {
   "cell_type": "code",
   "execution_count": 89,
   "metadata": {},
   "outputs": [
    {
     "ename": "SyntaxError",
     "evalue": "invalid syntax (2850425419.py, line 1)",
     "output_type": "error",
     "traceback": [
      "\u001b[1;36m  Cell \u001b[1;32mIn[89], line 1\u001b[1;36m\u001b[0m\n\u001b[1;33m    jupyter nbconvert --to pdf Assignment_1.ipynb\u001b[0m\n\u001b[1;37m            ^\u001b[0m\n\u001b[1;31mSyntaxError\u001b[0m\u001b[1;31m:\u001b[0m invalid syntax\n"
     ]
    }
   ],
   "source": [
    "jupyter nbconvert --to pdf Assignment_1.ipynb"
   ]
  }
 ],
 "metadata": {
  "kernelspec": {
   "display_name": "Python 3 (ipykernel)",
   "language": "python",
   "name": "python3"
  },
  "language_info": {
   "codemirror_mode": {
    "name": "ipython",
    "version": 3
   },
   "file_extension": ".py",
   "mimetype": "text/x-python",
   "name": "python",
   "nbconvert_exporter": "python",
   "pygments_lexer": "ipython3",
   "version": "3.11.3"
  },
  "nteract": {
   "version": "0.28.0"
  },
  "varInspector": {
   "cols": {
    "lenName": 16,
    "lenType": 16,
    "lenVar": 40
   },
   "kernels_config": {
    "python": {
     "delete_cmd_postfix": "",
     "delete_cmd_prefix": "del ",
     "library": "var_list.py",
     "varRefreshCmd": "print(var_dic_list())"
    },
    "r": {
     "delete_cmd_postfix": ") ",
     "delete_cmd_prefix": "rm(",
     "library": "var_list.r",
     "varRefreshCmd": "cat(var_dic_list()) "
    }
   },
   "position": {
    "height": "643px",
    "left": "1548px",
    "right": "20px",
    "top": "121px",
    "width": "350px"
   },
   "types_to_exclude": [
    "module",
    "function",
    "builtin_function_or_method",
    "instance",
    "_Feature"
   ],
   "window_display": true
  },
  "vscode": {
   "interpreter": {
    "hash": "f54e0b9f92ceb50229b3b7ea26b5d02f05ce8845dd8d997c014a0efede4c9c20"
   }
  }
 },
 "nbformat": 4,
 "nbformat_minor": 4
}
